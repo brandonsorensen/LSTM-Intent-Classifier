{
 "cells": [
  {
   "cell_type": "code",
   "execution_count": 87,
   "metadata": {},
   "outputs": [],
   "source": [
    "import numpy\n",
    "import pandas as pd\n",
    "import os\n",
    "from collections import Counter\n",
    "from keras.models import Sequential\n",
    "from keras.layers import Dense, LSTM, Dropout\n",
    "from keras.layers.embeddings import Embedding\n",
    "from keras.preprocessing import sequence"
   ]
  },
  {
   "cell_type": "code",
   "execution_count": 24,
   "metadata": {},
   "outputs": [],
   "source": [
    "def preprocess(series):\n",
    "    def delimit(sent):\n",
    "        arr = sent.split()\n",
    "        if arr:\n",
    "            arr.insert(0, '<START>')\n",
    "            arr.append('<END>')\n",
    "        else:\n",
    "            arr = ['<EMPTY>']\n",
    "        return arr\n",
    "    return series.apply(delimit)"
   ]
  },
  {
   "cell_type": "code",
   "execution_count": 25,
   "metadata": {},
   "outputs": [],
   "source": [
    "def process_seq(seq, mapping):\n",
    "    return [mapping[w] for w in seq]"
   ]
  },
  {
   "cell_type": "code",
   "execution_count": 26,
   "metadata": {},
   "outputs": [],
   "source": [
    "def get_vocab(sents, top_words=None):\n",
    "    c = Counter()\n",
    "    for sent in sents:\n",
    "        c.update(sent)\n",
    "        \n",
    "    if top_words is not None:\n",
    "        vocab = set([w[0] for w in c.most_common(top_words)])\n",
    "    else:\n",
    "        vocab = set(c.keys())\n",
    "        \n",
    "    word_to_idx = {}\n",
    "    idx_to_word = {}\n",
    "                \n",
    "    for idx, word in enumerate(c.keys()):\n",
    "        word_to_idx[word] = idx\n",
    "        idx_to_word[idx] = word\n",
    "        \n",
    "    return vocab, word_to_idx, idx_to_word"
   ]
  },
  {
   "cell_type": "code",
   "execution_count": 27,
   "metadata": {},
   "outputs": [],
   "source": [
    "def load_data(path):\n",
    "    COLUMNS = ['utterance_ID', 'dialog_act', 'utterance_t-3', \n",
    "           'utterance_t-2', 'utterance_t-1', 'utterance_t']\n",
    "    \n",
    "    df = pd.read_csv(path, sep='\\t|;',\n",
    "                  engine='python', names=COLUMNS, dtype=str).set_index('utterance_ID')\n",
    "    df[COLUMNS[2:]] = df[COLUMNS[2:]].apply(preprocess)\n",
    "    return df"
   ]
  },
  {
   "cell_type": "code",
   "execution_count": 81,
   "metadata": {},
   "outputs": [],
   "source": [
    "def process_data(data, max_len, top_words=None):\n",
    "    vocab, word_to_idx, idx_to_word = get_vocab(data['utterance_t'], top_words)\n",
    "    label_to_idx = {label:idx for idx, label in enumerate(data['dialog_act'].unique())}\n",
    "    \n",
    "    X = sequence.pad_sequences(data['utterance_t'].apply(process_seq, args=[word_to_idx]),\n",
    "                               maxlen=max_len)\n",
    "    y = data['dialog_act'].map(label_to_idx).values\n",
    "    \n",
    "    return (X, y), (vocab, word_to_idx, idx_to_word)"
   ]
  },
  {
   "cell_type": "code",
   "execution_count": 29,
   "metadata": {},
   "outputs": [
    {
     "data": {
      "text/html": [
       "<div>\n",
       "<style scoped>\n",
       "    .dataframe tbody tr th:only-of-type {\n",
       "        vertical-align: middle;\n",
       "    }\n",
       "\n",
       "    .dataframe tbody tr th {\n",
       "        vertical-align: top;\n",
       "    }\n",
       "\n",
       "    .dataframe thead th {\n",
       "        text-align: right;\n",
       "    }\n",
       "</style>\n",
       "<table border=\"1\" class=\"dataframe\">\n",
       "  <thead>\n",
       "    <tr style=\"text-align: right;\">\n",
       "      <th></th>\n",
       "      <th>dialog_act</th>\n",
       "      <th>utterance_t-3</th>\n",
       "      <th>utterance_t-2</th>\n",
       "      <th>utterance_t-1</th>\n",
       "      <th>utterance_t</th>\n",
       "    </tr>\n",
       "    <tr>\n",
       "      <th>utterance_ID</th>\n",
       "      <th></th>\n",
       "      <th></th>\n",
       "      <th></th>\n",
       "      <th></th>\n",
       "      <th></th>\n",
       "    </tr>\n",
       "  </thead>\n",
       "  <tbody>\n",
       "    <tr>\n",
       "      <th>2121_1</th>\n",
       "      <td>bc</td>\n",
       "      <td>[&lt;EMPTY&gt;]</td>\n",
       "      <td>[&lt;EMPTY&gt;]</td>\n",
       "      <td>[&lt;EMPTY&gt;]</td>\n",
       "      <td>[&lt;START&gt;, Okay, ,, uh, &lt;END&gt;]</td>\n",
       "    </tr>\n",
       "    <tr>\n",
       "      <th>2121_2</th>\n",
       "      <td>qw</td>\n",
       "      <td>[&lt;EMPTY&gt;]</td>\n",
       "      <td>[&lt;EMPTY&gt;]</td>\n",
       "      <td>[&lt;START&gt;, Okay, ,, uh, &lt;END&gt;]</td>\n",
       "      <td>[&lt;START&gt;, could, you, tell, me, what, you, thi...</td>\n",
       "    </tr>\n",
       "    <tr>\n",
       "      <th>2121_3</th>\n",
       "      <td>h</td>\n",
       "      <td>[&lt;EMPTY&gt;]</td>\n",
       "      <td>[&lt;START&gt;, Okay, ,, uh, &lt;END&gt;]</td>\n",
       "      <td>[&lt;START&gt;, could, you, tell, me, what, you, thi...</td>\n",
       "      <td>[&lt;START&gt;, Well, ,, it, 's, hard, to, say, ., &lt;...</td>\n",
       "    </tr>\n",
       "    <tr>\n",
       "      <th>2121_4</th>\n",
       "      <td>s</td>\n",
       "      <td>[&lt;START&gt;, Okay, ,, uh, &lt;END&gt;]</td>\n",
       "      <td>[&lt;START&gt;, could, you, tell, me, what, you, thi...</td>\n",
       "      <td>[&lt;START&gt;, Well, ,, it, 's, hard, to, say, ., &lt;...</td>\n",
       "      <td>[&lt;START&gt;, I, mean, ,, while, it, 's, certainly...</td>\n",
       "    </tr>\n",
       "    <tr>\n",
       "      <th>2121_5</th>\n",
       "      <td>qo</td>\n",
       "      <td>[&lt;START&gt;, could, you, tell, me, what, you, thi...</td>\n",
       "      <td>[&lt;START&gt;, Well, ,, it, 's, hard, to, say, ., &lt;...</td>\n",
       "      <td>[&lt;START&gt;, I, mean, ,, while, it, 's, certainly...</td>\n",
       "      <td>[&lt;START&gt;, What, do, you, think, ?, &lt;END&gt;]</td>\n",
       "    </tr>\n",
       "  </tbody>\n",
       "</table>\n",
       "</div>"
      ],
      "text/plain": [
       "             dialog_act                                      utterance_t-3  \\\n",
       "utterance_ID                                                                 \n",
       "2121_1               bc                                          [<EMPTY>]   \n",
       "2121_2               qw                                          [<EMPTY>]   \n",
       "2121_3                h                                          [<EMPTY>]   \n",
       "2121_4                s                      [<START>, Okay, ,, uh, <END>]   \n",
       "2121_5               qo  [<START>, could, you, tell, me, what, you, thi...   \n",
       "\n",
       "                                                  utterance_t-2  \\\n",
       "utterance_ID                                                      \n",
       "2121_1                                                [<EMPTY>]   \n",
       "2121_2                                                [<EMPTY>]   \n",
       "2121_3                            [<START>, Okay, ,, uh, <END>]   \n",
       "2121_4        [<START>, could, you, tell, me, what, you, thi...   \n",
       "2121_5        [<START>, Well, ,, it, 's, hard, to, say, ., <...   \n",
       "\n",
       "                                                  utterance_t-1  \\\n",
       "utterance_ID                                                      \n",
       "2121_1                                                [<EMPTY>]   \n",
       "2121_2                            [<START>, Okay, ,, uh, <END>]   \n",
       "2121_3        [<START>, could, you, tell, me, what, you, thi...   \n",
       "2121_4        [<START>, Well, ,, it, 's, hard, to, say, ., <...   \n",
       "2121_5        [<START>, I, mean, ,, while, it, 's, certainly...   \n",
       "\n",
       "                                                    utterance_t  \n",
       "utterance_ID                                                     \n",
       "2121_1                            [<START>, Okay, ,, uh, <END>]  \n",
       "2121_2        [<START>, could, you, tell, me, what, you, thi...  \n",
       "2121_3        [<START>, Well, ,, it, 's, hard, to, say, ., <...  \n",
       "2121_4        [<START>, I, mean, ,, while, it, 's, certainly...  \n",
       "2121_5                [<START>, What, do, you, think, ?, <END>]  "
      ]
     },
     "execution_count": 29,
     "metadata": {},
     "output_type": "execute_result"
    }
   ],
   "source": [
    "train = load_data('da_tagging/utterances.train')\n",
    "val = load_data('da_tagging/utterances.valid')\n",
    "train.head()"
   ]
  },
  {
   "cell_type": "code",
   "execution_count": 107,
   "metadata": {},
   "outputs": [
    {
     "data": {
      "text/plain": [
       "31"
      ]
     },
     "execution_count": 107,
     "metadata": {},
     "output_type": "execute_result"
    }
   ],
   "source": [
    "classes = train['dialog_act'].unique()\n",
    "num_classes = len(classes)\n",
    "num_classes"
   ]
  },
  {
   "cell_type": "code",
   "execution_count": 59,
   "metadata": {},
   "outputs": [
    {
     "data": {
      "text/plain": [
       "106"
      ]
     },
     "execution_count": 59,
     "metadata": {},
     "output_type": "execute_result"
    }
   ],
   "source": [
    "max_len = train['utterance_t'].apply(len).max()\n",
    "max_len"
   ]
  },
  {
   "cell_type": "code",
   "execution_count": 83,
   "metadata": {},
   "outputs": [],
   "source": [
    "(X_train, y_train), (vocab, word_to_idx, idx_to_word) = process_data(train, max_len)\n",
    "(X_val, y_val), (_,_,_) = process_data(val, max_len)"
   ]
  },
  {
   "cell_type": "code",
   "execution_count": 86,
   "metadata": {},
   "outputs": [
    {
     "name": "stdout",
     "output_type": "stream",
     "text": [
      "_________________________________________________________________\n",
      "Layer (type)                 Output Shape              Param #   \n",
      "=================================================================\n",
      "embedding_14 (Embedding)     (None, 106, 106)          2597530   \n",
      "_________________________________________________________________\n",
      "lstm_13 (LSTM)               (None, 100)               82800     \n",
      "_________________________________________________________________\n",
      "dense_14 (Dense)             (None, 31)                3131      \n",
      "=================================================================\n",
      "Total params: 2,683,461\n",
      "Trainable params: 2,683,461\n",
      "Non-trainable params: 0\n",
      "_________________________________________________________________\n",
      "None\n",
      "Train on 196502 samples, validate on 20000 samples\n",
      "Epoch 1/3\n",
      "196502/196502 [==============================] - 342s 2ms/step - loss: 0.8177 - acc: 0.7633 - val_loss: 4.4164 - val_acc: 0.1656\n",
      "Epoch 2/3\n",
      "196502/196502 [==============================] - 340s 2ms/step - loss: 0.5905 - acc: 0.8118 - val_loss: 4.0848 - val_acc: 0.1080\n",
      "Epoch 3/3\n",
      "196502/196502 [==============================] - 341s 2ms/step - loss: 0.5389 - acc: 0.8216 - val_loss: 4.0996 - val_acc: 0.1344\n"
     ]
    },
    {
     "data": {
      "text/plain": [
       "<keras.callbacks.History at 0x7fe72c420550>"
      ]
     },
     "execution_count": 86,
     "metadata": {},
     "output_type": "execute_result"
    }
   ],
   "source": [
    "os.environ['CUDA_VISIBLE_DEVICES'] = '0'\n",
    "embedding_dim = max_len\n",
    "model = Sequential()\n",
    "model.add(Embedding(len(vocab), embedding_dim, input_length=embedding_dim))\n",
    "model.add(LSTM(100, dropout=0.2, recurrent_dropout=0.2))\n",
    "model.add(Dense(31, activation='softmax'))\n",
    "model.compile(loss='sparse_categorical_crossentropy', optimizer='adam', metrics=['accuracy'])\n",
    "print(model.summary())\n",
    "history = model.fit(X_train, y_train, validation_data=(X_val, y_val),\n",
    "                    epochs=3, batch_size=64)"
   ]
  },
  {
   "cell_type": "code",
   "execution_count": 102,
   "metadata": {},
   "outputs": [],
   "source": [
    "predictions = model.predict(X_train)"
   ]
  },
  {
   "cell_type": "code",
   "execution_count": 114,
   "metadata": {},
   "outputs": [],
   "source": [
    "preds = [classes[prediction.argmax()] for prediction in predictions]"
   ]
  }
 ],
 "metadata": {
  "kernelspec": {
   "display_name": "Python 2",
   "language": "python",
   "name": "python2"
  },
  "language_info": {
   "codemirror_mode": {
    "name": "ipython",
    "version": 2
   },
   "file_extension": ".py",
   "mimetype": "text/x-python",
   "name": "python",
   "nbconvert_exporter": "python",
   "pygments_lexer": "ipython2",
   "version": "2.7.15"
  }
 },
 "nbformat": 4,
 "nbformat_minor": 2
}

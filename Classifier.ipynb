{
 "cells": [
  {
   "cell_type": "code",
   "execution_count": 1,
   "metadata": {
    "scrolled": true
   },
   "outputs": [
    {
     "name": "stderr",
     "output_type": "stream",
     "text": [
      "Using TensorFlow backend.\n"
     ]
    }
   ],
   "source": [
    "import random\n",
    "import os\n",
    "import matplotlib.pyplot as plt\n",
    "import argparse\n",
    "from utils import *\n",
    "from models.lstm_classifier import LSTMClassifier\n",
    "from models.gru_classifier import GRUClassifier\n",
    "from keras.optimizers import RMSprop"
   ]
  },
  {
   "cell_type": "code",
   "execution_count": 19,
   "metadata": {},
   "outputs": [],
   "source": [
    "os.environ['CUDA_VISIBLE_DEVICES'] = '1'"
   ]
  },
  {
   "cell_type": "code",
   "execution_count": 3,
   "metadata": {},
   "outputs": [],
   "source": [
    "train = load_data('data/utterances.train')\n",
    "val = load_data('data/utterances.valid')"
   ]
  },
  {
   "cell_type": "code",
   "execution_count": 4,
   "metadata": {},
   "outputs": [
    {
     "data": {
      "text/plain": [
       "0.09237789951132092"
      ]
     },
     "execution_count": 4,
     "metadata": {},
     "output_type": "execute_result"
    }
   ],
   "source": [
    "train = pd.concat([train, val]).sample(frac=1) # Merge train & val then shuffle\n",
    "val_split = len(val) / len(train)\n",
    "val_split"
   ]
  },
  {
   "cell_type": "code",
   "execution_count": 5,
   "metadata": {},
   "outputs": [],
   "source": [
    "test = load_data('data/utterances.test', train=False)"
   ]
  },
  {
   "cell_type": "code",
   "execution_count": 7,
   "metadata": {},
   "outputs": [],
   "source": [
    "classes = train['dialog_act'].unique()\n",
    "num_classes = len(classes)\n",
    "max_len = train['utterance_t'].apply(len).max()"
   ]
  },
  {
   "cell_type": "code",
   "execution_count": 9,
   "metadata": {},
   "outputs": [],
   "source": [
    "(X_train, y_train), (vocab, word_to_idx, idx_to_word) = process_data(train, max_len)"
   ]
  },
  {
   "cell_type": "code",
   "execution_count": 10,
   "metadata": {
    "code_folding": []
   },
   "outputs": [],
   "source": [
    "test_vocab = [word for row in test['utterance_t'] for word in row if word not in vocab]\n",
    "for word in test_vocab:\n",
    "    idx = len(word_to_idx)\n",
    "    word_to_idx[word] = idx\n",
    "    idx_to_word[idx] = word\n",
    "    vocab.add(word)"
   ]
  },
  {
   "cell_type": "code",
   "execution_count": 11,
   "metadata": {},
   "outputs": [],
   "source": [
    "f = open('/projekte/slu/share/emb/glove.twitter.27B.50d.txt', 'r', encoding='utf-8')\n",
    "weights = {}\n",
    "for line in f.readlines():\n",
    "    line = line.split()\n",
    "    weights[line[0]] = np.array(line[1:], dtype='float32')\n",
    "f.close()\n",
    "del weights['0.45973'] # Corrects an error in the file"
   ]
  },
  {
   "cell_type": "code",
   "execution_count": 12,
   "metadata": {},
   "outputs": [],
   "source": [
    "num_dims = weights[random.choice(list(weights.keys()))].shape[0]\n",
    "add_unknown_words(weights, word_to_idx, k=num_dims, min_df=0)\n",
    "W, word_idx = get_W(weights, k=num_dims)"
   ]
  },
  {
   "cell_type": "code",
   "execution_count": null,
   "metadata": {},
   "outputs": [],
   "source": [
    "# embds_path = '/projekte/slu/share/GoogleNews-vectors-negative300.bin' \n",
    "# w2v = load_bin_vec(embds_path, word_to_idx)\n",
    "# add_unknown_words(w2v, word_to_idx)\n",
    "# W, word_idx = get_W(w2v)"
   ]
  },
  {
   "cell_type": "code",
   "execution_count": 20,
   "metadata": {},
   "outputs": [
    {
     "name": "stdout",
     "output_type": "stream",
     "text": [
      "_________________________________________________________________\n",
      "Layer (type)                 Output Shape              Param #   \n",
      "=================================================================\n",
      "embedding_2 (Embedding)      (None, 106, 50)           60195350  \n",
      "_________________________________________________________________\n",
      "lstm_2 (LSTM)                (None, 106, 128)          91648     \n",
      "_________________________________________________________________\n",
      "global_max_pooling1d_2 (Glob (None, 128)               0         \n",
      "_________________________________________________________________\n",
      "dense_2 (Dense)              (None, 31)                3999      \n",
      "=================================================================\n",
      "Total params: 60,290,997\n",
      "Trainable params: 60,290,997\n",
      "Non-trainable params: 0\n",
      "_________________________________________________________________\n",
      "None\n"
     ]
    }
   ],
   "source": [
    "model = LSTMClassifier(num_classes, max_len, W)\n",
    "model.compile(loss='categorical_crossentropy',\n",
    "              optimizer='adam', metrics=['accuracy'])\n",
    "print(model.summary())"
   ]
  },
  {
   "cell_type": "code",
   "execution_count": null,
   "metadata": {
    "scrolled": true
   },
   "outputs": [
    {
     "name": "stdout",
     "output_type": "stream",
     "text": [
      "Train on 176502 samples, validate on 40000 samples\n",
      "Epoch 1/3\n",
      " 29312/176502 [===>..........................] - ETA: 15:46 - loss: 1.5408 - acc: 0.6135"
     ]
    }
   ],
   "source": [
    "%%time\n",
    "history = model.fit(X_train, y_train, validation_split=val_split * 2,\n",
    "                    epochs=3, batch_size=128)"
   ]
  },
  {
   "cell_type": "code",
   "execution_count": null,
   "metadata": {},
   "outputs": [],
   "source": [
    "model.save('lstm_model.h5')"
   ]
  },
  {
   "cell_type": "code",
   "execution_count": 16,
   "metadata": {},
   "outputs": [],
   "source": [
    "X_test = sequence.pad_sequences(test['utterance_t'].apply(process_seq, args=[word_idx]),\n",
    "                                maxlen=max_len)"
   ]
  },
  {
   "cell_type": "code",
   "execution_count": null,
   "metadata": {
    "scrolled": true
   },
   "outputs": [],
   "source": [
    "pred = model.predict_classes(X_test)\n",
    "pred"
   ]
  },
  {
   "cell_type": "code",
   "execution_count": null,
   "metadata": {},
   "outputs": [],
   "source": [
    "len([num for num in pred if num != 1])"
   ]
  }
 ],
 "metadata": {
  "kernelspec": {
   "display_name": "Python 3",
   "language": "python",
   "name": "python3"
  },
  "language_info": {
   "codemirror_mode": {
    "name": "ipython",
    "version": 3
   },
   "file_extension": ".py",
   "mimetype": "text/x-python",
   "name": "python",
   "nbconvert_exporter": "python",
   "pygments_lexer": "ipython3",
   "version": "3.6.8"
  }
 },
 "nbformat": 4,
 "nbformat_minor": 2
}
